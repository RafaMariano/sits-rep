{
 "cells": [
  {
   "cell_type": "markdown",
   "metadata": {},
   "source": [
    "# Exemplo de Reprodução dos Resultados de Classificação de Uso e Cobertura da Terra utilizando o pacote **sits.rep**"
   ]
  },
  {
   "cell_type": "markdown",
   "metadata": {},
   "source": [
    "A reprodutibilidade das pesquisas científicas tem sido um tópico de grande discussão no meio acadêmico. A sua importância é discutida em todas as ciências, dado que é um dos pilares do método científico, com o objetivo de garantir a verificação e confiabilidade da metodologia e dos resultados produzidos em uma pesquisa. Apesar de sua importância, diversos trabalhos das mais variadas áreas da ciência têm apontado dificuldades em reproduzir trabalhos científicos, revelando uma possível crise na reprodutibilidade. Na área de economia, por exemplo, o trabalho de Gertler concluiu que, dos 203 artigos empíricos analisados, somente 14\\% foram possíveis de replicação. Um dos problemas apontado por Gertler foi a falta de disponibilização aberta dos códigos e dados para reproduzir os resultados. "
   ]
  },
  {
   "cell_type": "markdown",
   "metadata": {},
   "source": [
    "Essa dificuldade enfrentada pelos pesquisadores tem motivado os principais periódicos a elaborar documentos de boas práticas e diretrizes que ajudem os pesquisadores a organizar e compartilhar dados, códigos e artefatos de suas publicações. As revistas Science e Nature, por exemplo, elaboraram regras para que novas publicações usem formas padronizadas e abertas para o acesso, armazenamento e citação tanto dos dados quanto dos métodos utilizados. Adicionalmente, diversos grupos de pesquisa têm proposto e desenvolvido novas ferramentas computacionais para auxiliar os pesquisadores nas questões de reprodutibilidade de seus trabalhos. Essas ferramentas compreendem desde sistemas gerais de catalogação de metadados das pesquisas até ferramentas que buscam a reprodução automática das análises de dados. Nesse último caso, essas ferramentas são voltadas para lidar com problemas específicos de uma área da ciência, já que os tipos de dados e métodos computacionais variam de ciência para ciência, dificultando desenvolver uma solução genérica. "
   ]
  },
  {
   "cell_type": "markdown",
   "metadata": {},
   "source": [
    "Na área de observação da Terra, esse assunto tem criado notoriedade recentemente com projetos e conferências obrigando os pesquisadores a disponibilizarem os dados e códigos em repositórios abertos. Entretando, segundo Alber, existe uma grande dificuldade em realizar o processo de reprodutibilidade em trabalhos que envolvem análise de dados de Observação da Terra. Isso ocorre por causa do grande volume de dados que são gerados todos os dias, o que torna o processamento dos dados demorado e limita o espaço de armazenamento. "
   ]
  },
  {
   "cell_type": "markdown",
   "metadata": {},
   "source": [
    "Dependendo dos métodos computacionais utilizados para efetuar análise de dados, é exigido um grande esforço por parte dos cientistas para garantir a reprodutibilidade dos resultados, já que repetir uma análise com os mesmos dados de entrada e métodos computacionais não garante aos cientistas obter os mesmos resultados. Diversos fatores podem influenciar no resultado final, como falta de informações sobre o pré-processamento dos dados, versões diferentes dos pacotes de dependência, execução em um sistema operacional diferente e o uso da semente, utilizada para a geração de números aleatórios,  diferente em cada execução. Por tanto, é de grande importância armazenar todo o contexto da execução além do resultado final e criar métodos para que, através desse contexto, os pesquisadores possam reproduzir os resultados originais obtidos em uma análise de dados."
   ]
  },
  {
   "cell_type": "markdown",
   "metadata": {},
   "source": [
    "A questão da reprodutibilidade se torna ainda mais relevante em projetos de pesquisas envolvendo grupos multidisciplinares e colaborativos, sendo necessário \n",
    "registrar todo o processo executado por cada membro envolvido no desenvolvimento dos resultados de uma pesquisa. Com base nisso, uma ferramenta para fins \n",
    "específicos e bem definidos pode acelerar e facilitar o processo de reprodutibilidade ao coletar todas as informações necessárias durante a execução das etapas\n",
    "de uma determinada pesquisa. Isto facilita a publicação de documentos científicos reprodutíveis, conforme exigido atualmente por diferentes periódicos científicos."
   ]
  },
  {
   "cell_type": "markdown",
   "metadata": {},
   "source": [
    "Esse trabalho parte da hipótese de que análises com dados de Observação da Terra são passíveis de reprodução. Partimos do pressuposto que é necessário armazenar dados de contexto referentes aos experimentos intermediários dentro da análise da dados. Com esse contexto, iremos simular o ambiente original para obter os mesmos resultados. Como estudo de caso, iremos focar em reproduzir os resultados em uma ferramenta específica para análise de dados de Observação da Terra, que é o Satellite Image Time Series (sits). "
   ]
  },
  {
   "cell_type": "markdown",
   "metadata": {},
   "source": [
    "# Metodologia"
   ]
  },
  {
   "cell_type": "markdown",
   "metadata": {},
   "source": [
    "O sits.rep é a materialização da hipótese de que os resultados obtido através de ferramentas de análises dados de Observação da Terra são passivéis de reprodução. Como foi observado nos trabalhos que buscam tratar a reprodutibilidade, há sempre um foco em uma determinada linguagem de programação, formatos de dados e como os resultados serão obtidos. Essa restrição acontece devido os diferentes algoritmos e dados que cada pesquisa exige. Por tanto, sits.rep segue esse príncipio focando na ferramenta sits."
   ]
  },
  {
   "cell_type": "markdown",
   "metadata": {},
   "source": [
    "A metodologia proposta pelo sits.rep é reproduzir classificações realizadas com o pacote sits. Está metodologia está dividida em duas etapas: [Criação dos Experimentos](#Criação-dos-Experimentos), onde são guardadas informações de reprodutibilidade durante o processo de classificação de uso da terra, e [Reprodução dos Resultados](#Reprodução-dos-Resultados), onde um ambiente é criado para permitir a reprodução das classificações geradas. Ambas etapas são descritas a seguir."
   ]
  },
  {
   "cell_type": "markdown",
   "metadata": {},
   "source": [
    "## Criação dos Experimentos"
   ]
  },
  {
   "cell_type": "markdown",
   "metadata": {},
   "source": [
    "Essa etapa o pesquisador desenvolve um script que será executado pelo sits.rep para armazenar os resultados. [Neste exemplo](./script-classificacao.ipynb), é explicado quais são as principais partes que um script de classificação deve conter para ser reproduzido. Durante a execução, é coletado o seu contexto que inclui parâmetros de entrada das funções, a semente do gerador de números aleatórios, o modelo treinado, o código original, resultados, informações de sistema operacional, dependências e o ambiente de programação.\n",
    "\n",
    "Todos os dados de entrada usado pelos pesquisadores para treinar um modelo e classificar séries temporais, possuem versionamentos e estruturas de dados bem definidas pelos pacotes inSitu e EOCubes. Desde que esses dados se encontram hospedados em serviços web e são explicitamente versionados, é possível recuperar exatamente a mesma versão dos dados usadas no treinamento e classificações. Por tanto, não sendo necessário armazená-los para garantir a reprodutibilidade, bastando coletar as versões de ambos os pacotes.\n",
    "\n",
    "O script que iremos utilizar a partir de agora se encontra no caminho a seguir:"
   ]
  },
  {
   "cell_type": "code",
   "execution_count": 1,
   "metadata": {},
   "outputs": [
    {
     "data": {
      "text/html": [
       "'/home/rafael/workspace/sits.rep/jupyter/classification.R'"
      ],
      "text/latex": [
       "'/home/rafael/workspace/sits.rep/jupyter/classification.R'"
      ],
      "text/markdown": [
       "'/home/rafael/workspace/sits.rep/jupyter/classification.R'"
      ],
      "text/plain": [
       "[1] \"/home/rafael/workspace/sits.rep/jupyter/classification.R\""
      ]
     },
     "metadata": {},
     "output_type": "display_data"
    }
   ],
   "source": [
    "script <- paste0(getwd(), \"/classification.R\")\n",
    "script"
   ]
  },
  {
   "cell_type": "markdown",
   "metadata": {},
   "source": [
    "Esse script possuí as mesmas funções do [exemplo](./script-classificacao.ipynb). Inicialmente, é necessário instalar o sits.rep caso não tenha:"
   ]
  },
  {
   "cell_type": "code",
   "execution_count": null,
   "metadata": {},
   "outputs": [],
   "source": [
    "devtools::install_github('https://github.com/RafaMariano/sits.rep')"
   ]
  },
  {
   "cell_type": "markdown",
   "metadata": {},
   "source": [
    "Depois, basta importar para a memória do R:"
   ]
  },
  {
   "cell_type": "code",
   "execution_count": 6,
   "metadata": {},
   "outputs": [],
   "source": [
    "library(sits.rep)"
   ]
  },
  {
   "cell_type": "markdown",
   "metadata": {},
   "source": [
    "O sits.rep disponibiliza duas funções, sendo uma para executar as classificações e outra para reproduzir. Focaremos nesse momento na função de classificação."
   ]
  },
  {
   "cell_type": "markdown",
   "metadata": {},
   "source": [
    "### Executando a Classificação com o sits.rep"
   ]
  },
  {
   "cell_type": "markdown",
   "metadata": {},
   "source": [
    "Toda execução realizada pelo sits.rep é chamado de experimento. Para cada execução dos experimentos, será criado uma relação de árvore de dependências. Por padrão, a classificação sempre é raiz de uma árvore e única, logo, não irá existir duas classificações na mesma árvore. Futuramente será incluido a possibilidade de tratar o pós processamento, e nesse caso, esse experimento irá necessáriamente depender de um processo pai criado anteriormente, seja uma classificação ou outro experimento de pós processamento. Dessa forma, o sits.rep irá automaticamente incluir como dado de entrada no pós-processamento, o resultado do experimento pai.\n",
    "\n",
    "A função para classificação do sits.rep (chamado de 'sits.rep_classify') recebe dois parâmetros de entrada: um nome único para árvore e um script de classificação. Como resultado dessa função, será criado um diretório com o nome da árvore e, dentro desse diretório, conterá experimentos de classificação e, futuramente, de pós-processamento. A imagem abaixo exemplifica essa estrutura de diretório. A árvore 'arv_1' possuí três experimentos: uma classificação e dois de pós-processamento (pos_bayes, mosaico). A ligação de parentesco entre os experimentos é dado pelo arquivo 'grafo.txt'. Dentro de cada experimento deverá conter uma cópia do script, o resultado da execução, um hash dos resultados, arquivo de contexto e outros dados particulares de cada execução. O arquivo de hash dos resultados será usado na fase de [Reprodução dos Resultados](#Reprodução-dos-Resultados) para que, após reproduzir o experimento, verificar se os resultados são iguais. O diretório reprodutível será abordado na seção [Reprodução dos Resultados](#Reprodução-dos-Resultados).\n",
    "\n",
    "![alt text](img/arv_dep.png \"Title\")\n",
    "\n",
    "\n",
    "Logo abaixo, é executado a função para classificação. O primeiro argumento é o nome da árvore que irá se chamar 'arv_1' e o segundo é o script."
   ]
  },
  {
   "cell_type": "code",
   "execution_count": 4,
   "metadata": {},
   "outputs": [
    {
     "name": "stderr",
     "output_type": "stream",
     "text": [
      "sits - satellite image time series analysis.\n",
      "Loaded sits v1.12.6. See ?sits for help, citation(\"sits\") for use in publication.\n",
      "                See demo(package = \"sits\") for examples.\n",
      "Created logger for sits package - DEBUG level at /tmp/RtmpXSk1RI/sits_debug1ecb65627109.log\n",
      "Created logger for sits package - ERROR level at /tmp/RtmpXSk1RI/sits_error1ecb3155d1d1.log\n",
      "Registered S3 method overwritten by 'xts':\n",
      "  method     from\n",
      "  as.zoo.xts zoo \n",
      "Registered S3 method overwritten by 'quantmod':\n",
      "  method            from\n",
      "  as.zoo.data.frame zoo \n",
      "Registered S3 methods overwritten by 'forecast':\n",
      "  method             from    \n",
      "  fitted.fracdiff    fracdiff\n",
      "  residuals.fracdiff fracdiff\n",
      "Loaded inSitu e-sensing data sets v1.1.1. Use citation(\"inSitu\") for use in publication.\n",
      "Set session seed to 42 (disabled GPU, CPU parallelism)\n",
      "Starting classification at 2019-11-27 14:28:20\n",
      "Classification finished at 2019-11-27 14:29:02. Total elapsed time: 0.7 minute(s).\n",
      "Starting classification at 2019-11-27 14:29:04\n",
      "Classification finished at 2019-11-27 14:29:45. Total elapsed time: 0.7 minute(s).\n",
      "Starting classification at 2019-11-27 14:29:48\n",
      "Classification finished at 2019-11-27 14:30:34. Total elapsed time: 0.8 minute(s).\n",
      "Starting classification at 2019-11-27 14:30:36\n",
      "Classification finished at 2019-11-27 14:31:24. Total elapsed time: 0.8 minute(s).\n",
      "Starting classification at 2019-11-27 14:31:25\n",
      "Classification finished at 2019-11-27 14:32:12. Total elapsed time: 0.8 minute(s).\n",
      "Starting classification at 2019-11-27 14:32:14\n",
      "Classification finished at 2019-11-27 14:33:01. Total elapsed time: 0.8 minute(s).\n",
      "Starting classification at 2019-11-27 14:33:03\n",
      "Classification finished at 2019-11-27 14:33:45. Total elapsed time: 0.7 minute(s).\n",
      "Starting classification at 2019-11-27 14:33:47\n",
      "Classification finished at 2019-11-27 14:34:32. Total elapsed time: 0.7 minute(s).\n",
      "Starting classification at 2019-11-27 14:34:33\n",
      "Classification finished at 2019-11-27 14:35:17. Total elapsed time: 0.7 minute(s).\n",
      "Starting classification at 2019-11-27 14:35:19\n",
      "Classification finished at 2019-11-27 14:36:02. Total elapsed time: 0.7 minute(s).\n",
      "Starting classification at 2019-11-27 14:36:04\n",
      "Classification finished at 2019-11-27 14:36:48. Total elapsed time: 0.7 minute(s).\n",
      "Starting classification at 2019-11-27 14:36:49\n",
      "Classification finished at 2019-11-27 14:37:32. Total elapsed time: 0.7 minute(s).\n",
      "Starting classification at 2019-11-27 14:37:34\n",
      "Classification finished at 2019-11-27 14:38:19. Total elapsed time: 0.7 minute(s).\n",
      "Starting classification at 2019-11-27 14:38:20\n",
      "Classification finished at 2019-11-27 14:39:04. Total elapsed time: 0.7 minute(s).\n",
      "Starting classification at 2019-11-27 14:39:05\n",
      "Classification finished at 2019-11-27 14:39:48. Total elapsed time: 0.7 minute(s).\n",
      "Starting classification at 2019-11-27 14:39:50\n",
      "Classification finished at 2019-11-27 14:40:37. Total elapsed time: 0.8 minute(s).\n",
      "Starting classification at 2019-11-27 14:40:38\n",
      "Classification finished at 2019-11-27 14:41:21. Total elapsed time: 0.7 minute(s).\n",
      "Starting classification at 2019-11-27 14:41:23\n",
      "Classification finished at 2019-11-27 14:42:06. Total elapsed time: 0.7 minute(s).\n",
      "Starting classification at 2019-11-27 14:42:08\n",
      "Classification finished at 2019-11-27 14:42:51. Total elapsed time: 0.7 minute(s).\n",
      "Starting classification at 2019-11-27 14:42:52\n",
      "Classification finished at 2019-11-27 14:43:36. Total elapsed time: 0.7 minute(s).\n",
      "Starting classification at 2019-11-27 14:43:38\n",
      "Classification finished at 2019-11-27 14:44:22. Total elapsed time: 0.7 minute(s).\n",
      "Starting classification at 2019-11-27 14:44:24\n",
      "Classification finished at 2019-11-27 14:45:10. Total elapsed time: 0.8 minute(s).\n",
      "Starting classification at 2019-11-27 14:45:12\n",
      "Classification finished at 2019-11-27 14:45:53. Total elapsed time: 0.7 minute(s).\n",
      "Starting classification at 2019-11-27 14:45:55\n",
      "Classification finished at 2019-11-27 14:46:39. Total elapsed time: 0.7 minute(s).\n",
      "Starting classification at 2019-11-27 14:46:40\n",
      "Classification finished at 2019-11-27 14:47:23. Total elapsed time: 0.7 minute(s).\n",
      "Starting classification at 2019-11-27 14:47:25\n",
      "Classification finished at 2019-11-27 14:48:08. Total elapsed time: 0.7 minute(s).\n",
      "Starting classification at 2019-11-27 14:48:10\n",
      "Classification finished at 2019-11-27 14:49:01. Total elapsed time: 0.8 minute(s).\n",
      "Starting classification at 2019-11-27 14:49:02\n",
      "Classification finished at 2019-11-27 14:49:45. Total elapsed time: 0.7 minute(s).\n",
      "Starting classification at 2019-11-27 14:49:47\n",
      "Classification finished at 2019-11-27 14:50:32. Total elapsed time: 0.7 minute(s).\n",
      "Starting classification at 2019-11-27 14:50:33\n",
      "Classification finished at 2019-11-27 14:51:18. Total elapsed time: 0.7 minute(s).\n",
      "Starting classification at 2019-11-27 14:51:19\n",
      "Classification finished at 2019-11-27 14:52:05. Total elapsed time: 0.8 minute(s).\n",
      "Starting classification at 2019-11-27 14:52:06\n",
      "Classification finished at 2019-11-27 14:52:50. Total elapsed time: 0.7 minute(s).\n",
      "Starting classification at 2019-11-27 14:52:52\n",
      "Classification finished at 2019-11-27 14:53:37. Total elapsed time: 0.7 minute(s).\n",
      "Starting classification at 2019-11-27 14:53:39\n",
      "Classification finished at 2019-11-27 14:54:24. Total elapsed time: 0.8 minute(s).\n"
     ]
    }
   ],
   "source": [
    "sits.rep_classify(\"arv_1\", script)"
   ]
  },
  {
   "cell_type": "markdown",
   "metadata": {},
   "source": [
    "Finalizado a execução, é possível visualizar a árvore e o experimento armazenados no diretório padrão '~/sits.rep'."
   ]
  },
  {
   "cell_type": "code",
   "execution_count": 9,
   "metadata": {},
   "outputs": [
    {
     "data": {
      "text/html": [
       "<ol class=list-inline>\n",
       "\t<li>'/home/rafael/sits.rep'</li>\n",
       "\t<li>'/home/rafael/sits.rep/arv_1'</li>\n",
       "\t<li>'/home/rafael/sits.rep/arv_1/classification'</li>\n",
       "\t<li>'/home/rafael/sits.rep/arv_1/classification/Classification'</li>\n",
       "\t<li>'/home/rafael/sits.rep/arv_1/classification/Classification/MT'</li>\n",
       "\t<li>'/home/rafael/sits.rep/arv_1/classification/coverage'</li>\n",
       "\t<li>'/home/rafael/sits.rep/arv_1/classification/coverage/geom'</li>\n",
       "\t<li>'/home/rafael/sits.rep/arv_1/classification/result'</li>\n",
       "\t<li>'/home/rafael/sits.rep/arv_1/classification/result/raster'</li>\n",
       "\t<li>'/home/rafael/sits.rep/arv_1/classification/result/rds'</li>\n",
       "\t<li>'/home/rafael/sits.rep/arv_1/classification/train'</li>\n",
       "</ol>\n"
      ],
      "text/latex": [
       "\\begin{enumerate*}\n",
       "\\item '/home/rafael/sits.rep'\n",
       "\\item '/home/rafael/sits.rep/arv\\_1'\n",
       "\\item '/home/rafael/sits.rep/arv\\_1/classification'\n",
       "\\item '/home/rafael/sits.rep/arv\\_1/classification/Classification'\n",
       "\\item '/home/rafael/sits.rep/arv\\_1/classification/Classification/MT'\n",
       "\\item '/home/rafael/sits.rep/arv\\_1/classification/coverage'\n",
       "\\item '/home/rafael/sits.rep/arv\\_1/classification/coverage/geom'\n",
       "\\item '/home/rafael/sits.rep/arv\\_1/classification/result'\n",
       "\\item '/home/rafael/sits.rep/arv\\_1/classification/result/raster'\n",
       "\\item '/home/rafael/sits.rep/arv\\_1/classification/result/rds'\n",
       "\\item '/home/rafael/sits.rep/arv\\_1/classification/train'\n",
       "\\end{enumerate*}\n"
      ],
      "text/markdown": [
       "1. '/home/rafael/sits.rep'\n",
       "2. '/home/rafael/sits.rep/arv_1'\n",
       "3. '/home/rafael/sits.rep/arv_1/classification'\n",
       "4. '/home/rafael/sits.rep/arv_1/classification/Classification'\n",
       "5. '/home/rafael/sits.rep/arv_1/classification/Classification/MT'\n",
       "6. '/home/rafael/sits.rep/arv_1/classification/coverage'\n",
       "7. '/home/rafael/sits.rep/arv_1/classification/coverage/geom'\n",
       "8. '/home/rafael/sits.rep/arv_1/classification/result'\n",
       "9. '/home/rafael/sits.rep/arv_1/classification/result/raster'\n",
       "10. '/home/rafael/sits.rep/arv_1/classification/result/rds'\n",
       "11. '/home/rafael/sits.rep/arv_1/classification/train'\n",
       "\n",
       "\n"
      ],
      "text/plain": [
       " [1] \"/home/rafael/sits.rep\"                                       \n",
       " [2] \"/home/rafael/sits.rep/arv_1\"                                 \n",
       " [3] \"/home/rafael/sits.rep/arv_1/classification\"                  \n",
       " [4] \"/home/rafael/sits.rep/arv_1/classification/Classification\"   \n",
       " [5] \"/home/rafael/sits.rep/arv_1/classification/Classification/MT\"\n",
       " [6] \"/home/rafael/sits.rep/arv_1/classification/coverage\"         \n",
       " [7] \"/home/rafael/sits.rep/arv_1/classification/coverage/geom\"    \n",
       " [8] \"/home/rafael/sits.rep/arv_1/classification/result\"           \n",
       " [9] \"/home/rafael/sits.rep/arv_1/classification/result/raster\"    \n",
       "[10] \"/home/rafael/sits.rep/arv_1/classification/result/rds\"       \n",
       "[11] \"/home/rafael/sits.rep/arv_1/classification/train\"            "
      ]
     },
     "metadata": {},
     "output_type": "display_data"
    }
   ],
   "source": [
    "list.dirs('~/sits.rep', recursive = TRUE)"
   ]
  },
  {
   "cell_type": "markdown",
   "metadata": {},
   "source": [
    "# Capturando dados de Contexto"
   ]
  },
  {
   "cell_type": "markdown",
   "metadata": {},
   "source": [
    "\n",
    "Os dados de contexto são capturados através de sobrescrita, em tempo de execução, das principais funções presentes nos pacotes sits e base do R. Quando um script é executado pelo 'sits.rep_classify', devido às funções sobrescritas serem inicialmente carregadas na memória global do R, as funções do sits.rep serão utilizadas em vez das funções originais do sits. As funções sobrescritas capturam os parâmetros de entrada, armazenam em um repositório, e no final usam as respectivas funções originais, passando os mesmos parâmetros de entrada, para que o seu resultado seja retornado e o processamento prossiga como se a sobrecarga não existisse.\n",
    "\n",
    "Para exemplificar essa idéia, logo abaixo iremos sobrescrever a função 'sits_coverage' do pacote sits. Essa função recebe quatro argumentos de entrada: "
   ]
  },
  {
   "cell_type": "code",
   "execution_count": 45,
   "metadata": {},
   "outputs": [
    {
     "data": {
      "text/html": [
       "<table>\n",
       "<caption>A tibble: 1 × 20</caption>\n",
       "<thead>\n",
       "\t<tr><th scope=col>r_objs</th><th scope=col>name</th><th scope=col>service</th><th scope=col>bands</th><th scope=col>labels</th><th scope=col>scale_factors</th><th scope=col>missing_values</th><th scope=col>minimum_values</th><th scope=col>maximum_values</th><th scope=col>timeline</th><th scope=col>nrows</th><th scope=col>ncols</th><th scope=col>xmin</th><th scope=col>xmax</th><th scope=col>ymin</th><th scope=col>ymax</th><th scope=col>xres</th><th scope=col>yres</th><th scope=col>crs</th><th scope=col>files</th></tr>\n",
       "\t<tr><th scope=col>&lt;list&gt;</th><th scope=col>&lt;chr&gt;</th><th scope=col>&lt;chr&gt;</th><th scope=col>&lt;list&gt;</th><th scope=col>&lt;list&gt;</th><th scope=col>&lt;list&gt;</th><th scope=col>&lt;list&gt;</th><th scope=col>&lt;list&gt;</th><th scope=col>&lt;list&gt;</th><th scope=col>&lt;list&gt;</th><th scope=col>&lt;int&gt;</th><th scope=col>&lt;int&gt;</th><th scope=col>&lt;dbl&gt;</th><th scope=col>&lt;dbl&gt;</th><th scope=col>&lt;dbl&gt;</th><th scope=col>&lt;dbl&gt;</th><th scope=col>&lt;dbl&gt;</th><th scope=col>&lt;dbl&gt;</th><th scope=col>&lt;chr&gt;</th><th scope=col>&lt;list&gt;</th></tr>\n",
       "</thead>\n",
       "<tbody>\n",
       "\t<tr><td>MOD13Q1/006                                                                      , 0.7                                                                              , MOD13Q1 collection 6                                                             , USGS/NASA                                                                        , MOD13Q1                                                                          , Brazil                                                                           , name                                                                             , +proj=sinu +lon_0=0 +x_0=0 +y_0=0 +a=6371007.181 +b=6371007.181 +units=m +no_defs, 0                                                                                , 10000                                                                            , -1000                                                                            , 1e-04                                                                            , 250m_16_days_blue_reflectance                                                    , -2000                                                                            , 10000                                                                            , -3000                                                                            , 1e-04                                                                            , 250m_16_days_EVI                                                                 , 0                                                                                , 10000                                                                            , -1000                                                                            , 1e-04                                                                            , 250m_16_days_MIR_reflectance                                                     , -2000                                                                            , 10000                                                                            , -3000                                                                            , 1e-04                                                                            , 250m_16_days_NDVI                                                                , 0                                                                                , 10000                                                                            , -1000                                                                            , 1e-04                                                                            , 250m_16_days_NIR_reflectance                                                     , 0                                                                                , 10000                                                                            , -1000                                                                            , 1e-04                                                                            , 250m_16_days_red_reflectance                                                     , 480                                                                              , 480                                                                              , 231.6564                                                                         , 231.6564                                                                         , Feature                                                                          , -6782898.17                                                                      , -2112705.9874                                                                    , -5448557.5464                                                                    , -778365.3638                                                                     , Polygon                                                                          , -6782898.17                                                                      , -2112705.9874                                                                    , -6782898.17                                                                      , -2001510.9354                                                                    , -6671703.118                                                                     , -2001510.9354                                                                    , -6671703.118                                                                     , -2112705.9874                                                                    , -6782898.17                                                                      , -2112705.9874                                                                    , 2000-02-18                                                                       , 2017-10-16                                                                       , http://eocubes-test.s3.amazonaws.com/MOD13Q1/006/h12v10_1920_0/catalog.json      , Feature                                                                          , -6226922.9101                                                                    , -1223145.5716                                                                    , -6115727.8582                                                                    , -1111950.5197                                                                    , Polygon                                                                          , -6226922.9101                                                                    , -1223145.5716                                                                    , -6226922.9101                                                                    , -1111950.5197                                                                    , -6115727.8582                                                                    , -1111950.5197                                                                    , -6115727.8582                                                                    , -1223145.5716                                                                    , -6226922.9101                                                                    , -1223145.5716                                                                    , http://eocubes-test.s3.amazonaws.com/MOD13Q1/006/h12v10_1920_480/catalog.json    , Feature                                                                          , -6226922.9101                                                                    , -1334340.6236                                                                    , -6115727.8582                                                                    , -1223145.5716                                                                    , Polygon                                                                          , -6226922.9101                                                                    , -1334340.6236                                                                    , -6226922.9101                                                                    , -1223145.5716                                                                    , -6115727.8582                                                                    , -1223145.5716                                                                    , -6115727.8582                                                                    , -1334340.6236                                                                    , -6226922.9101                                                                    , -1334340.6236                                                                    </td><td>MOD13Q1/006</td><td>EOCUBES</td><td>ndvi</td><td>NoClass</td><td>1e-04</td><td>-3000</td><td>-2000</td><td>10000</td><td>11005, 17455</td><td>480</td><td>480</td><td>-6782898</td><td>-5448558</td><td>-2112706</td><td>-778365.4</td><td>231.6564</td><td>231.6564</td><td>+proj=sinu +lon_0=0 +x_0=0 +y_0=0 +a=6371007.181 +b=6371007.181 +units=m +no_defs</td><td>NA</td></tr>\n",
       "</tbody>\n",
       "</table>\n"
      ],
      "text/latex": [
       "A tibble: 1 × 20\n",
       "\\begin{tabular}{r|llllllllllllllllllll}\n",
       " r\\_objs & name & service & bands & labels & scale\\_factors & missing\\_values & minimum\\_values & maximum\\_values & timeline & nrows & ncols & xmin & xmax & ymin & ymax & xres & yres & crs & files\\\\\n",
       " <list> & <chr> & <chr> & <list> & <list> & <list> & <list> & <list> & <list> & <list> & <int> & <int> & <dbl> & <dbl> & <dbl> & <dbl> & <dbl> & <dbl> & <chr> & <list>\\\\\n",
       "\\hline\n",
       "\t MOD13Q1/006                                                                      , 0.7                                                                              , MOD13Q1 collection 6                                                             , USGS/NASA                                                                        , MOD13Q1                                                                          , Brazil                                                                           , name                                                                             , +proj=sinu +lon\\_0=0 +x\\_0=0 +y\\_0=0 +a=6371007.181 +b=6371007.181 +units=m +no\\_defs, 0                                                                                , 10000                                                                            , -1000                                                                            , 1e-04                                                                            , 250m\\_16\\_days\\_blue\\_reflectance                                                    , -2000                                                                            , 10000                                                                            , -3000                                                                            , 1e-04                                                                            , 250m\\_16\\_days\\_EVI                                                                 , 0                                                                                , 10000                                                                            , -1000                                                                            , 1e-04                                                                            , 250m\\_16\\_days\\_MIR\\_reflectance                                                     , -2000                                                                            , 10000                                                                            , -3000                                                                            , 1e-04                                                                            , 250m\\_16\\_days\\_NDVI                                                                , 0                                                                                , 10000                                                                            , -1000                                                                            , 1e-04                                                                            , 250m\\_16\\_days\\_NIR\\_reflectance                                                     , 0                                                                                , 10000                                                                            , -1000                                                                            , 1e-04                                                                            , 250m\\_16\\_days\\_red\\_reflectance                                                     , 480                                                                              , 480                                                                              , 231.6564                                                                         , 231.6564                                                                         , Feature                                                                          , -6782898.17                                                                      , -2112705.9874                                                                    , -5448557.5464                                                                    , -778365.3638                                                                     , Polygon                                                                          , -6782898.17                                                                      , -2112705.9874                                                                    , -6782898.17                                                                      , -2001510.9354                                                                    , -6671703.118                                                                     , -2001510.9354                                                                    , -6671703.118                                                                     , -2112705.9874                                                                    , -6782898.17                                                                      , -2112705.9874                                                                    , 2000-02-18                                                                       , 2017-10-16                                                                       , http://eocubes-test.s3.amazonaws.com/MOD13Q1/006/h12v10\\_1920\\_0/catalog.json      , Feature                                                                          , -6226922.9101                                                                    , -1223145.5716                                                                    , -6115727.8582                                                                    , -1111950.5197                                                                    , Polygon                                                                          , -6226922.9101                                                                    , -1223145.5716                                                                    , -6226922.9101                                                                    , -1111950.5197                                                                    , -6115727.8582                                                                    , -1111950.5197                                                                    , -6115727.8582                                                                    , -1223145.5716                                                                    , -6226922.9101                                                                    , -1223145.5716                                                                    , http://eocubes-test.s3.amazonaws.com/MOD13Q1/006/h12v10\\_1920\\_480/catalog.json    , Feature                                                                          , -6226922.9101                                                                    , -1334340.6236                                                                    , -6115727.8582                                                                    , -1223145.5716                                                                    , Polygon                                                                          , -6226922.9101                                                                    , -1334340.6236                                                                    , -6226922.9101                                                                    , -1223145.5716                                                                    , -6115727.8582                                                                    , -1223145.5716                                                                    , -6115727.8582                                                                    , -1334340.6236                                                                    , -6226922.9101                                                                    , -1334340.6236                                                                     & MOD13Q1/006 & EOCUBES & ndvi & NoClass & 1e-04 & -3000 & -2000 & 10000 & 11005, 17455 & 480 & 480 & -6782898 & -5448558 & -2112706 & -778365.4 & 231.6564 & 231.6564 & +proj=sinu +lon\\_0=0 +x\\_0=0 +y\\_0=0 +a=6371007.181 +b=6371007.181 +units=m +no\\_defs & NA\\\\\n",
       "\\end{tabular}\n"
      ],
      "text/markdown": [
       "\n",
       "A tibble: 1 × 20\n",
       "\n",
       "| r_objs &lt;list&gt; | name &lt;chr&gt; | service &lt;chr&gt; | bands &lt;list&gt; | labels &lt;list&gt; | scale_factors &lt;list&gt; | missing_values &lt;list&gt; | minimum_values &lt;list&gt; | maximum_values &lt;list&gt; | timeline &lt;list&gt; | nrows &lt;int&gt; | ncols &lt;int&gt; | xmin &lt;dbl&gt; | xmax &lt;dbl&gt; | ymin &lt;dbl&gt; | ymax &lt;dbl&gt; | xres &lt;dbl&gt; | yres &lt;dbl&gt; | crs &lt;chr&gt; | files &lt;list&gt; |\n",
       "|---|---|---|---|---|---|---|---|---|---|---|---|---|---|---|---|---|---|---|---|\n",
       "| MOD13Q1/006                                                                      , 0.7                                                                              , MOD13Q1 collection 6                                                             , USGS/NASA                                                                        , MOD13Q1                                                                          , Brazil                                                                           , name                                                                             , +proj=sinu +lon_0=0 +x_0=0 +y_0=0 +a=6371007.181 +b=6371007.181 +units=m +no_defs, 0                                                                                , 10000                                                                            , -1000                                                                            , 1e-04                                                                            , 250m_16_days_blue_reflectance                                                    , -2000                                                                            , 10000                                                                            , -3000                                                                            , 1e-04                                                                            , 250m_16_days_EVI                                                                 , 0                                                                                , 10000                                                                            , -1000                                                                            , 1e-04                                                                            , 250m_16_days_MIR_reflectance                                                     , -2000                                                                            , 10000                                                                            , -3000                                                                            , 1e-04                                                                            , 250m_16_days_NDVI                                                                , 0                                                                                , 10000                                                                            , -1000                                                                            , 1e-04                                                                            , 250m_16_days_NIR_reflectance                                                     , 0                                                                                , 10000                                                                            , -1000                                                                            , 1e-04                                                                            , 250m_16_days_red_reflectance                                                     , 480                                                                              , 480                                                                              , 231.6564                                                                         , 231.6564                                                                         , Feature                                                                          , -6782898.17                                                                      , -2112705.9874                                                                    , -5448557.5464                                                                    , -778365.3638                                                                     , Polygon                                                                          , -6782898.17                                                                      , -2112705.9874                                                                    , -6782898.17                                                                      , -2001510.9354                                                                    , -6671703.118                                                                     , -2001510.9354                                                                    , -6671703.118                                                                     , -2112705.9874                                                                    , -6782898.17                                                                      , -2112705.9874                                                                    , 2000-02-18                                                                       , 2017-10-16                                                                       , http://eocubes-test.s3.amazonaws.com/MOD13Q1/006/h12v10_1920_0/catalog.json      , Feature                                                                          , -6226922.9101                                                                    , -1223145.5716                                                                    , -6115727.8582                                                                    , -1111950.5197                                                                    , Polygon                                                                          , -6226922.9101                                                                    , -1223145.5716                                                                    , -6226922.9101                                                                    , -1111950.5197                                                                    , -6115727.8582                                                                    , -1111950.5197                                                                    , -6115727.8582                                                                    , -1223145.5716                                                                    , -6226922.9101                                                                    , -1223145.5716                                                                    , http://eocubes-test.s3.amazonaws.com/MOD13Q1/006/h12v10_1920_480/catalog.json    , Feature                                                                          , -6226922.9101                                                                    , -1334340.6236                                                                    , -6115727.8582                                                                    , -1223145.5716                                                                    , Polygon                                                                          , -6226922.9101                                                                    , -1334340.6236                                                                    , -6226922.9101                                                                    , -1223145.5716                                                                    , -6115727.8582                                                                    , -1223145.5716                                                                    , -6115727.8582                                                                    , -1334340.6236                                                                    , -6226922.9101                                                                    , -1334340.6236                                                                     | MOD13Q1/006 | EOCUBES | ndvi | NoClass | 1e-04 | -3000 | -2000 | 10000 | 11005, 17455 | 480 | 480 | -6782898 | -5448558 | -2112706 | -778365.4 | 231.6564 | 231.6564 | +proj=sinu +lon_0=0 +x_0=0 +y_0=0 +a=6371007.181 +b=6371007.181 +units=m +no_defs | NA |\n",
       "\n"
      ],
      "text/plain": [
       "  r_objs                                                                                                                                                                                                                                                                                                                                                                                                                                                                                                                                                                                                                                                                                                                                                                                                                                                                                                                                                                                                                                                                                                                                                                                                                                                                                                                                                                                                                                                                                                                                                                                                                                                                                                                                                                                                                                                                                                                                                                                                                                                                                                                                                                                                                                                                                                                                                                                                                                                                                                                                                                                                                                                                                                                                                                                                                                                                                                                                                                                                                                                                                                                                                                                                                                                                                                                                                                                                                                                                                                                                                                                                                                                                                                                                                                                                                                                                                                                                                                                                                                                                                                                                                                                                                                                                                                                                                                                                                                                                                                                                                                                                                                                                                                                                                                                                                                                                                                                                                                                                                                                                                                                                                                                                                                                                                                                                                                                                                                                                                                                                                                                                                                                                                                                                                                                                                                                                                                                                                                                                                                                                                                                                                                                                                                                                                                                                                                                                                                                                                                                                                                                                                                                                                                                                                                                                                                                                                                                                                                                                                                                                                                                                                                                                                                                                                                                                                                                                                                                                                                                                                                                                                                                                                                                                                                                                                                                                                                                                                                                                                                                                                                                  \n",
       "1 MOD13Q1/006                                                                      , 0.7                                                                              , MOD13Q1 collection 6                                                             , USGS/NASA                                                                        , MOD13Q1                                                                          , Brazil                                                                           , name                                                                             , +proj=sinu +lon_0=0 +x_0=0 +y_0=0 +a=6371007.181 +b=6371007.181 +units=m +no_defs, 0                                                                                , 10000                                                                            , -1000                                                                            , 1e-04                                                                            , 250m_16_days_blue_reflectance                                                    , -2000                                                                            , 10000                                                                            , -3000                                                                            , 1e-04                                                                            , 250m_16_days_EVI                                                                 , 0                                                                                , 10000                                                                            , -1000                                                                            , 1e-04                                                                            , 250m_16_days_MIR_reflectance                                                     , -2000                                                                            , 10000                                                                            , -3000                                                                            , 1e-04                                                                            , 250m_16_days_NDVI                                                                , 0                                                                                , 10000                                                                            , -1000                                                                            , 1e-04                                                                            , 250m_16_days_NIR_reflectance                                                     , 0                                                                                , 10000                                                                            , -1000                                                                            , 1e-04                                                                            , 250m_16_days_red_reflectance                                                     , 480                                                                              , 480                                                                              , 231.6564                                                                         , 231.6564                                                                         , Feature                                                                          , -6782898.17                                                                      , -2112705.9874                                                                    , -5448557.5464                                                                    , -778365.3638                                                                     , Polygon                                                                          , -6782898.17                                                                      , -2112705.9874                                                                    , -6782898.17                                                                      , -2001510.9354                                                                    , -6671703.118                                                                     , -2001510.9354                                                                    , -6671703.118                                                                     , -2112705.9874                                                                    , -6782898.17                                                                      , -2112705.9874                                                                    , 2000-02-18                                                                       , 2017-10-16                                                                       , http://eocubes-test.s3.amazonaws.com/MOD13Q1/006/h12v10_1920_0/catalog.json      , Feature                                                                          , -6226922.9101                                                                    , -1223145.5716                                                                    , -6115727.8582                                                                    , -1111950.5197                                                                    , Polygon                                                                          , -6226922.9101                                                                    , -1223145.5716                                                                    , -6226922.9101                                                                    , -1111950.5197                                                                    , -6115727.8582                                                                    , -1111950.5197                                                                    , -6115727.8582                                                                    , -1223145.5716                                                                    , -6226922.9101                                                                    , -1223145.5716                                                                    , http://eocubes-test.s3.amazonaws.com/MOD13Q1/006/h12v10_1920_480/catalog.json    , Feature                                                                          , -6226922.9101                                                                    , -1334340.6236                                                                    , -6115727.8582                                                                    , -1223145.5716                                                                    , Polygon                                                                          , -6226922.9101                                                                    , -1334340.6236                                                                    , -6226922.9101                                                                    , -1223145.5716                                                                    , -6115727.8582                                                                    , -1223145.5716                                                                    , -6115727.8582                                                                    , -1334340.6236                                                                    , -6226922.9101                                                                    , -1334340.6236                                                                    \n",
       "  name        service bands labels  scale_factors missing_values minimum_values\n",
       "1 MOD13Q1/006 EOCUBES ndvi  NoClass 1e-04         -3000          -2000         \n",
       "  maximum_values timeline     nrows ncols xmin     xmax     ymin     ymax     \n",
       "1 10000          11005, 17455 480   480   -6782898 -5448558 -2112706 -778365.4\n",
       "  xres     yres    \n",
       "1 231.6564 231.6564\n",
       "  crs                                                                              \n",
       "1 +proj=sinu +lon_0=0 +x_0=0 +y_0=0 +a=6371007.181 +b=6371007.181 +units=m +no_defs\n",
       "  files\n",
       "1 NA   "
      ]
     },
     "metadata": {},
     "output_type": "display_data"
    }
   ],
   "source": [
    "sits_coverage(service = \"EOCUBES\",\n",
    "              name = \"MOD13Q1/006\",\n",
    "              bands = \"ndvi\",\n",
    "              geom = sf::read_sf(paste0(getwd(), \"/geom/geom.shp\")))"
   ]
  },
  {
   "cell_type": "markdown",
   "metadata": {},
   "source": [
    "Para sobrescrever o 'sits_coverage', é necessário criar uma função com a mesma assinatura, ou seja, com o mesmo nome da função e quantidade de argumentos. No interior da função sobrescrita, é possível analisar os valores de cada parâmetro para tomar alguma decisão, por exemplo, armazenar esses parâmetros. Neste exemplo, o valor de cada parâmetro será impresso no terminal. O seu retorno deve ser o resultado da função original para que o processamento pode ser seguido como se a sobrecarga não existisse. Assim, é chamado a função original (acessado através do nome do pacote seguido por '::') para que o seu resultado seja o retorno da função sobrescrita. \n",
    "\n",
    "Logo abaixo é exemplificado essa idéia sobrescrevendo o 'sits_coverage' com o propósito de imprimir no terminal o valor armazenado por cada argumento da função e no final é retornado o resultado da função original presente no sits:"
   ]
  },
  {
   "cell_type": "code",
   "execution_count": 48,
   "metadata": {},
   "outputs": [],
   "source": [
    "sits_coverage <- function(service, name, bands, geom){\n",
    "    print(service)\n",
    "    print(name)\n",
    "    print(bands)\n",
    "    print(geom)\n",
    "    \n",
    "    return(sits::sits_coverage(service = service, name = name, bands = bands, geom = geom)) \n",
    "}"
   ]
  },
  {
   "cell_type": "markdown",
   "metadata": {},
   "source": [
    "Agora, ao executar a função 'sits_coverage' é impresso impresso os argumentos e o resultado original do 'sits_coverage':"
   ]
  },
  {
   "cell_type": "code",
   "execution_count": 49,
   "metadata": {},
   "outputs": [
    {
     "name": "stdout",
     "output_type": "stream",
     "text": [
      "[1] \"EOCUBES\"\n",
      "[1] \"MOD13Q1/006\"\n",
      "[1] \"ndvi\"\n",
      "Simple feature collection with 1 feature and 1 field\n",
      "geometry type:  POLYGON\n",
      "dimension:      XY\n",
      "bbox:           xmin: -6209251 ymin: -1270455 xmax: -6138769 ymax: -1145154\n",
      "epsg (SRID):    NA\n",
      "proj4string:    +proj=sinu +lon_0=0 +x_0=0 +y_0=0 +a=6371007.181 +b=6371007.181 +units=m +no_defs\n",
      "\u001b[38;5;246m# A tibble: 1 x 2\u001b[39m\n",
      "    FID                                                                 geometry\n",
      "  \u001b[3m\u001b[38;5;246m<dbl>\u001b[39m\u001b[23m                                                            \u001b[3m\u001b[38;5;246m<POLYGON [m]>\u001b[39m\u001b[23m\n",
      "\u001b[38;5;250m1\u001b[39m    27 ((-6209251 -1145154, -6142685 -1146623, -6138769 -1269966, -6207293 -12…\n"
     ]
    },
    {
     "data": {
      "text/html": [
       "<table>\n",
       "<caption>A tibble: 1 × 20</caption>\n",
       "<thead>\n",
       "\t<tr><th scope=col>r_objs</th><th scope=col>name</th><th scope=col>service</th><th scope=col>bands</th><th scope=col>labels</th><th scope=col>scale_factors</th><th scope=col>missing_values</th><th scope=col>minimum_values</th><th scope=col>maximum_values</th><th scope=col>timeline</th><th scope=col>nrows</th><th scope=col>ncols</th><th scope=col>xmin</th><th scope=col>xmax</th><th scope=col>ymin</th><th scope=col>ymax</th><th scope=col>xres</th><th scope=col>yres</th><th scope=col>crs</th><th scope=col>files</th></tr>\n",
       "\t<tr><th scope=col>&lt;list&gt;</th><th scope=col>&lt;chr&gt;</th><th scope=col>&lt;chr&gt;</th><th scope=col>&lt;list&gt;</th><th scope=col>&lt;list&gt;</th><th scope=col>&lt;list&gt;</th><th scope=col>&lt;list&gt;</th><th scope=col>&lt;list&gt;</th><th scope=col>&lt;list&gt;</th><th scope=col>&lt;list&gt;</th><th scope=col>&lt;int&gt;</th><th scope=col>&lt;int&gt;</th><th scope=col>&lt;dbl&gt;</th><th scope=col>&lt;dbl&gt;</th><th scope=col>&lt;dbl&gt;</th><th scope=col>&lt;dbl&gt;</th><th scope=col>&lt;dbl&gt;</th><th scope=col>&lt;dbl&gt;</th><th scope=col>&lt;chr&gt;</th><th scope=col>&lt;list&gt;</th></tr>\n",
       "</thead>\n",
       "<tbody>\n",
       "\t<tr><td>MOD13Q1/006                                                                      , 0.7                                                                              , MOD13Q1 collection 6                                                             , USGS/NASA                                                                        , MOD13Q1                                                                          , Brazil                                                                           , name                                                                             , +proj=sinu +lon_0=0 +x_0=0 +y_0=0 +a=6371007.181 +b=6371007.181 +units=m +no_defs, 0                                                                                , 10000                                                                            , -1000                                                                            , 1e-04                                                                            , 250m_16_days_blue_reflectance                                                    , -2000                                                                            , 10000                                                                            , -3000                                                                            , 1e-04                                                                            , 250m_16_days_EVI                                                                 , 0                                                                                , 10000                                                                            , -1000                                                                            , 1e-04                                                                            , 250m_16_days_MIR_reflectance                                                     , -2000                                                                            , 10000                                                                            , -3000                                                                            , 1e-04                                                                            , 250m_16_days_NDVI                                                                , 0                                                                                , 10000                                                                            , -1000                                                                            , 1e-04                                                                            , 250m_16_days_NIR_reflectance                                                     , 0                                                                                , 10000                                                                            , -1000                                                                            , 1e-04                                                                            , 250m_16_days_red_reflectance                                                     , 480                                                                              , 480                                                                              , 231.6564                                                                         , 231.6564                                                                         , Feature                                                                          , -6782898.17                                                                      , -2112705.9874                                                                    , -5448557.5464                                                                    , -778365.3638                                                                     , Polygon                                                                          , -6782898.17                                                                      , -2112705.9874                                                                    , -6782898.17                                                                      , -2001510.9354                                                                    , -6671703.118                                                                     , -2001510.9354                                                                    , -6671703.118                                                                     , -2112705.9874                                                                    , -6782898.17                                                                      , -2112705.9874                                                                    , 2000-02-18                                                                       , 2017-10-16                                                                       , http://eocubes-test.s3.amazonaws.com/MOD13Q1/006/h12v10_1920_0/catalog.json      , Feature                                                                          , -6226922.9101                                                                    , -1223145.5716                                                                    , -6115727.8582                                                                    , -1111950.5197                                                                    , Polygon                                                                          , -6226922.9101                                                                    , -1223145.5716                                                                    , -6226922.9101                                                                    , -1111950.5197                                                                    , -6115727.8582                                                                    , -1111950.5197                                                                    , -6115727.8582                                                                    , -1223145.5716                                                                    , -6226922.9101                                                                    , -1223145.5716                                                                    , http://eocubes-test.s3.amazonaws.com/MOD13Q1/006/h12v10_1920_480/catalog.json    , Feature                                                                          , -6226922.9101                                                                    , -1334340.6236                                                                    , -6115727.8582                                                                    , -1223145.5716                                                                    , Polygon                                                                          , -6226922.9101                                                                    , -1334340.6236                                                                    , -6226922.9101                                                                    , -1223145.5716                                                                    , -6115727.8582                                                                    , -1223145.5716                                                                    , -6115727.8582                                                                    , -1334340.6236                                                                    , -6226922.9101                                                                    , -1334340.6236                                                                    </td><td>MOD13Q1/006</td><td>EOCUBES</td><td>ndvi</td><td>NoClass</td><td>1e-04</td><td>-3000</td><td>-2000</td><td>10000</td><td>11005, 17455</td><td>480</td><td>480</td><td>-6782898</td><td>-5448558</td><td>-2112706</td><td>-778365.4</td><td>231.6564</td><td>231.6564</td><td>+proj=sinu +lon_0=0 +x_0=0 +y_0=0 +a=6371007.181 +b=6371007.181 +units=m +no_defs</td><td>NA</td></tr>\n",
       "</tbody>\n",
       "</table>\n"
      ],
      "text/latex": [
       "A tibble: 1 × 20\n",
       "\\begin{tabular}{r|llllllllllllllllllll}\n",
       " r\\_objs & name & service & bands & labels & scale\\_factors & missing\\_values & minimum\\_values & maximum\\_values & timeline & nrows & ncols & xmin & xmax & ymin & ymax & xres & yres & crs & files\\\\\n",
       " <list> & <chr> & <chr> & <list> & <list> & <list> & <list> & <list> & <list> & <list> & <int> & <int> & <dbl> & <dbl> & <dbl> & <dbl> & <dbl> & <dbl> & <chr> & <list>\\\\\n",
       "\\hline\n",
       "\t MOD13Q1/006                                                                      , 0.7                                                                              , MOD13Q1 collection 6                                                             , USGS/NASA                                                                        , MOD13Q1                                                                          , Brazil                                                                           , name                                                                             , +proj=sinu +lon\\_0=0 +x\\_0=0 +y\\_0=0 +a=6371007.181 +b=6371007.181 +units=m +no\\_defs, 0                                                                                , 10000                                                                            , -1000                                                                            , 1e-04                                                                            , 250m\\_16\\_days\\_blue\\_reflectance                                                    , -2000                                                                            , 10000                                                                            , -3000                                                                            , 1e-04                                                                            , 250m\\_16\\_days\\_EVI                                                                 , 0                                                                                , 10000                                                                            , -1000                                                                            , 1e-04                                                                            , 250m\\_16\\_days\\_MIR\\_reflectance                                                     , -2000                                                                            , 10000                                                                            , -3000                                                                            , 1e-04                                                                            , 250m\\_16\\_days\\_NDVI                                                                , 0                                                                                , 10000                                                                            , -1000                                                                            , 1e-04                                                                            , 250m\\_16\\_days\\_NIR\\_reflectance                                                     , 0                                                                                , 10000                                                                            , -1000                                                                            , 1e-04                                                                            , 250m\\_16\\_days\\_red\\_reflectance                                                     , 480                                                                              , 480                                                                              , 231.6564                                                                         , 231.6564                                                                         , Feature                                                                          , -6782898.17                                                                      , -2112705.9874                                                                    , -5448557.5464                                                                    , -778365.3638                                                                     , Polygon                                                                          , -6782898.17                                                                      , -2112705.9874                                                                    , -6782898.17                                                                      , -2001510.9354                                                                    , -6671703.118                                                                     , -2001510.9354                                                                    , -6671703.118                                                                     , -2112705.9874                                                                    , -6782898.17                                                                      , -2112705.9874                                                                    , 2000-02-18                                                                       , 2017-10-16                                                                       , http://eocubes-test.s3.amazonaws.com/MOD13Q1/006/h12v10\\_1920\\_0/catalog.json      , Feature                                                                          , -6226922.9101                                                                    , -1223145.5716                                                                    , -6115727.8582                                                                    , -1111950.5197                                                                    , Polygon                                                                          , -6226922.9101                                                                    , -1223145.5716                                                                    , -6226922.9101                                                                    , -1111950.5197                                                                    , -6115727.8582                                                                    , -1111950.5197                                                                    , -6115727.8582                                                                    , -1223145.5716                                                                    , -6226922.9101                                                                    , -1223145.5716                                                                    , http://eocubes-test.s3.amazonaws.com/MOD13Q1/006/h12v10\\_1920\\_480/catalog.json    , Feature                                                                          , -6226922.9101                                                                    , -1334340.6236                                                                    , -6115727.8582                                                                    , -1223145.5716                                                                    , Polygon                                                                          , -6226922.9101                                                                    , -1334340.6236                                                                    , -6226922.9101                                                                    , -1223145.5716                                                                    , -6115727.8582                                                                    , -1223145.5716                                                                    , -6115727.8582                                                                    , -1334340.6236                                                                    , -6226922.9101                                                                    , -1334340.6236                                                                     & MOD13Q1/006 & EOCUBES & ndvi & NoClass & 1e-04 & -3000 & -2000 & 10000 & 11005, 17455 & 480 & 480 & -6782898 & -5448558 & -2112706 & -778365.4 & 231.6564 & 231.6564 & +proj=sinu +lon\\_0=0 +x\\_0=0 +y\\_0=0 +a=6371007.181 +b=6371007.181 +units=m +no\\_defs & NA\\\\\n",
       "\\end{tabular}\n"
      ],
      "text/markdown": [
       "\n",
       "A tibble: 1 × 20\n",
       "\n",
       "| r_objs &lt;list&gt; | name &lt;chr&gt; | service &lt;chr&gt; | bands &lt;list&gt; | labels &lt;list&gt; | scale_factors &lt;list&gt; | missing_values &lt;list&gt; | minimum_values &lt;list&gt; | maximum_values &lt;list&gt; | timeline &lt;list&gt; | nrows &lt;int&gt; | ncols &lt;int&gt; | xmin &lt;dbl&gt; | xmax &lt;dbl&gt; | ymin &lt;dbl&gt; | ymax &lt;dbl&gt; | xres &lt;dbl&gt; | yres &lt;dbl&gt; | crs &lt;chr&gt; | files &lt;list&gt; |\n",
       "|---|---|---|---|---|---|---|---|---|---|---|---|---|---|---|---|---|---|---|---|\n",
       "| MOD13Q1/006                                                                      , 0.7                                                                              , MOD13Q1 collection 6                                                             , USGS/NASA                                                                        , MOD13Q1                                                                          , Brazil                                                                           , name                                                                             , +proj=sinu +lon_0=0 +x_0=0 +y_0=0 +a=6371007.181 +b=6371007.181 +units=m +no_defs, 0                                                                                , 10000                                                                            , -1000                                                                            , 1e-04                                                                            , 250m_16_days_blue_reflectance                                                    , -2000                                                                            , 10000                                                                            , -3000                                                                            , 1e-04                                                                            , 250m_16_days_EVI                                                                 , 0                                                                                , 10000                                                                            , -1000                                                                            , 1e-04                                                                            , 250m_16_days_MIR_reflectance                                                     , -2000                                                                            , 10000                                                                            , -3000                                                                            , 1e-04                                                                            , 250m_16_days_NDVI                                                                , 0                                                                                , 10000                                                                            , -1000                                                                            , 1e-04                                                                            , 250m_16_days_NIR_reflectance                                                     , 0                                                                                , 10000                                                                            , -1000                                                                            , 1e-04                                                                            , 250m_16_days_red_reflectance                                                     , 480                                                                              , 480                                                                              , 231.6564                                                                         , 231.6564                                                                         , Feature                                                                          , -6782898.17                                                                      , -2112705.9874                                                                    , -5448557.5464                                                                    , -778365.3638                                                                     , Polygon                                                                          , -6782898.17                                                                      , -2112705.9874                                                                    , -6782898.17                                                                      , -2001510.9354                                                                    , -6671703.118                                                                     , -2001510.9354                                                                    , -6671703.118                                                                     , -2112705.9874                                                                    , -6782898.17                                                                      , -2112705.9874                                                                    , 2000-02-18                                                                       , 2017-10-16                                                                       , http://eocubes-test.s3.amazonaws.com/MOD13Q1/006/h12v10_1920_0/catalog.json      , Feature                                                                          , -6226922.9101                                                                    , -1223145.5716                                                                    , -6115727.8582                                                                    , -1111950.5197                                                                    , Polygon                                                                          , -6226922.9101                                                                    , -1223145.5716                                                                    , -6226922.9101                                                                    , -1111950.5197                                                                    , -6115727.8582                                                                    , -1111950.5197                                                                    , -6115727.8582                                                                    , -1223145.5716                                                                    , -6226922.9101                                                                    , -1223145.5716                                                                    , http://eocubes-test.s3.amazonaws.com/MOD13Q1/006/h12v10_1920_480/catalog.json    , Feature                                                                          , -6226922.9101                                                                    , -1334340.6236                                                                    , -6115727.8582                                                                    , -1223145.5716                                                                    , Polygon                                                                          , -6226922.9101                                                                    , -1334340.6236                                                                    , -6226922.9101                                                                    , -1223145.5716                                                                    , -6115727.8582                                                                    , -1223145.5716                                                                    , -6115727.8582                                                                    , -1334340.6236                                                                    , -6226922.9101                                                                    , -1334340.6236                                                                     | MOD13Q1/006 | EOCUBES | ndvi | NoClass | 1e-04 | -3000 | -2000 | 10000 | 11005, 17455 | 480 | 480 | -6782898 | -5448558 | -2112706 | -778365.4 | 231.6564 | 231.6564 | +proj=sinu +lon_0=0 +x_0=0 +y_0=0 +a=6371007.181 +b=6371007.181 +units=m +no_defs | NA |\n",
       "\n"
      ],
      "text/plain": [
       "  r_objs                                                                                                                                                                                                                                                                                                                                                                                                                                                                                                                                                                                                                                                                                                                                                                                                                                                                                                                                                                                                                                                                                                                                                                                                                                                                                                                                                                                                                                                                                                                                                                                                                                                                                                                                                                                                                                                                                                                                                                                                                                                                                                                                                                                                                                                                                                                                                                                                                                                                                                                                                                                                                                                                                                                                                                                                                                                                                                                                                                                                                                                                                                                                                                                                                                                                                                                                                                                                                                                                                                                                                                                                                                                                                                                                                                                                                                                                                                                                                                                                                                                                                                                                                                                                                                                                                                                                                                                                                                                                                                                                                                                                                                                                                                                                                                                                                                                                                                                                                                                                                                                                                                                                                                                                                                                                                                                                                                                                                                                                                                                                                                                                                                                                                                                                                                                                                                                                                                                                                                                                                                                                                                                                                                                                                                                                                                                                                                                                                                                                                                                                                                                                                                                                                                                                                                                                                                                                                                                                                                                                                                                                                                                                                                                                                                                                                                                                                                                                                                                                                                                                                                                                                                                                                                                                                                                                                                                                                                                                                                                                                                                                                                                  \n",
       "1 MOD13Q1/006                                                                      , 0.7                                                                              , MOD13Q1 collection 6                                                             , USGS/NASA                                                                        , MOD13Q1                                                                          , Brazil                                                                           , name                                                                             , +proj=sinu +lon_0=0 +x_0=0 +y_0=0 +a=6371007.181 +b=6371007.181 +units=m +no_defs, 0                                                                                , 10000                                                                            , -1000                                                                            , 1e-04                                                                            , 250m_16_days_blue_reflectance                                                    , -2000                                                                            , 10000                                                                            , -3000                                                                            , 1e-04                                                                            , 250m_16_days_EVI                                                                 , 0                                                                                , 10000                                                                            , -1000                                                                            , 1e-04                                                                            , 250m_16_days_MIR_reflectance                                                     , -2000                                                                            , 10000                                                                            , -3000                                                                            , 1e-04                                                                            , 250m_16_days_NDVI                                                                , 0                                                                                , 10000                                                                            , -1000                                                                            , 1e-04                                                                            , 250m_16_days_NIR_reflectance                                                     , 0                                                                                , 10000                                                                            , -1000                                                                            , 1e-04                                                                            , 250m_16_days_red_reflectance                                                     , 480                                                                              , 480                                                                              , 231.6564                                                                         , 231.6564                                                                         , Feature                                                                          , -6782898.17                                                                      , -2112705.9874                                                                    , -5448557.5464                                                                    , -778365.3638                                                                     , Polygon                                                                          , -6782898.17                                                                      , -2112705.9874                                                                    , -6782898.17                                                                      , -2001510.9354                                                                    , -6671703.118                                                                     , -2001510.9354                                                                    , -6671703.118                                                                     , -2112705.9874                                                                    , -6782898.17                                                                      , -2112705.9874                                                                    , 2000-02-18                                                                       , 2017-10-16                                                                       , http://eocubes-test.s3.amazonaws.com/MOD13Q1/006/h12v10_1920_0/catalog.json      , Feature                                                                          , -6226922.9101                                                                    , -1223145.5716                                                                    , -6115727.8582                                                                    , -1111950.5197                                                                    , Polygon                                                                          , -6226922.9101                                                                    , -1223145.5716                                                                    , -6226922.9101                                                                    , -1111950.5197                                                                    , -6115727.8582                                                                    , -1111950.5197                                                                    , -6115727.8582                                                                    , -1223145.5716                                                                    , -6226922.9101                                                                    , -1223145.5716                                                                    , http://eocubes-test.s3.amazonaws.com/MOD13Q1/006/h12v10_1920_480/catalog.json    , Feature                                                                          , -6226922.9101                                                                    , -1334340.6236                                                                    , -6115727.8582                                                                    , -1223145.5716                                                                    , Polygon                                                                          , -6226922.9101                                                                    , -1334340.6236                                                                    , -6226922.9101                                                                    , -1223145.5716                                                                    , -6115727.8582                                                                    , -1223145.5716                                                                    , -6115727.8582                                                                    , -1334340.6236                                                                    , -6226922.9101                                                                    , -1334340.6236                                                                    \n",
       "  name        service bands labels  scale_factors missing_values minimum_values\n",
       "1 MOD13Q1/006 EOCUBES ndvi  NoClass 1e-04         -3000          -2000         \n",
       "  maximum_values timeline     nrows ncols xmin     xmax     ymin     ymax     \n",
       "1 10000          11005, 17455 480   480   -6782898 -5448558 -2112706 -778365.4\n",
       "  xres     yres    \n",
       "1 231.6564 231.6564\n",
       "  crs                                                                              \n",
       "1 +proj=sinu +lon_0=0 +x_0=0 +y_0=0 +a=6371007.181 +b=6371007.181 +units=m +no_defs\n",
       "  files\n",
       "1 NA   "
      ]
     },
     "metadata": {},
     "output_type": "display_data"
    }
   ],
   "source": [
    "sits_coverage(service = \"EOCUBES\",\n",
    "              name = \"MOD13Q1/006\",\n",
    "              bands = \"ndvi\",\n",
    "              geom = sf::read_sf(paste0(getwd(), \"/geom/geom.shp\")))"
   ]
  },
  {
   "cell_type": "markdown",
   "metadata": {},
   "source": [
    "Esse exemplo demonstra o que o sits.rep faz internamente. Nem todas as funções do sits são sobrescritas, depende da necessidade de armazenar um dado específico. \n",
    "Os parâmetro da função sobrescrita não são modificados, para que o resultado final possa ser o mesmo da sua contraparte original. "
   ]
  },
  {
   "cell_type": "markdown",
   "metadata": {},
   "source": [
    "## Reprodução dos Resultados"
   ]
  },
  {
   "cell_type": "markdown",
   "metadata": {},
   "source": [
    "Após finalizado a execução do experimento, é possível criar um script reprodutível desse experimento para ser executado em um container do Docker. O sits.rep disponibiliza a função 'sits.rep_reproduce' que irá criar scripts, metadados, Dockerfile e copiar o arquivo de hash para reproduzir e verificar os resultados. O arquivo de Dockerfile irá conter todas as informações de dependências de sistema operacional e de pacotes de linguagem de programação, para um container possa ser criado simulando o ambiente original. Na imagem a seguir é demonstrado a estrutura do diretório após a execução da função 'sits.rep_reproduce'.\n",
    "\n",
    "\n",
    "![alt text](img/rep-docker.png \"Title\")\n",
    "\n",
    "\n",
    "\n",
    "\n",
    "Para executar o 'sits_rep.reproduce', é necessário informar o nome do experimento, juntamente com a sua árvore, e o nome do diretório aonde será armazenado o script e os dados para a reprodução. Logo abaixo, é demonstrado o uso da função 'sits.rep_reproduce':\n"
   ]
  },
  {
   "cell_type": "code",
   "execution_count": null,
   "metadata": {},
   "outputs": [],
   "source": [
    "sits.rep::sits.rep_reproduce(\"arv_1\", \"classification\", \"rep_deeplearnings\")"
   ]
  },
  {
   "cell_type": "markdown",
   "metadata": {},
   "source": [
    "Finalizado a execução, o pesquisador poderá carregar o diretório 'rep_deeplearning' em uma base de dados aberta para acompanhar um texto científico em suas publicações. Para reproduzir o resultado, basta executar o comando 'docker build' em uma máquina que possua a tecnologia Docker instalado. Esta tecnologia permite virtualizar ambientes computacionais controlados e executar scripts. O ambiente computacional é criado através dos dados de contexto obtidos durante a execução dos scripts que se materializou em um Dockerfile. Por tanto, são instaladas todas as dependências de sistema operacional, pacotes, com as suas respectivas versões no momento da execução original, além de configurar a semente do gerador de números aleatórios e outras informações de sistema.  Nesta máquina virtual, o script reprodutível é executado e é criado um arquivo hash reprodutível dos resultados. No final do processo, o arquivo hash original é comparado com o arquivo reprodutível, para verificar se os resultados produzidos são exatamente os mesmos do experimento original.\n",
    "\n",
    "No comando abaixo é criado uma imagem chamado 'rep_in_jupyter' que irá executar o script reprodutível automaticamente:"
   ]
  },
  {
   "cell_type": "code",
   "execution_count": 7,
   "metadata": {},
   "outputs": [],
   "source": [
    "base::system(\"docker build -t rep_in_jupyter /home/rafael/sits.rep/arv_1/reproducible/rep_deeplearnings\")"
   ]
  },
  {
   "cell_type": "markdown",
   "metadata": {},
   "source": [
    "O container irá instalar as depêndencias do pacote, executar o script reprodutível e verificar o resultado. Será imprimido no terminal se o resultado foi ou não reprodutível."
   ]
  },
  {
   "cell_type": "markdown",
   "metadata": {},
   "source": []
  },
  {
   "cell_type": "markdown",
   "metadata": {},
   "source": [
    "Referencias:\n",
    "\\cite{doi:10.1198/106186007X178663, 10.7717/peerj.148, Boettiger:2015:IDR:2723872.2723882, doi:10.1111/tgis.12195}\n",
    "et al \\cite{gertler2018make} \n",
    "\\cite{doi:10.1029/2012EO160003, doi:10.1002/2015EA000136}\n",
    "https://www.okhub.org/ (propósito geral)\n",
    "\n",
    "https://github.com/geosec/knowledge_hub\n",
    "http://www.esensing.org/\n",
    "nust2017opening\n",
    "https://www.earthobservations.org/article.php?id=366\n",
    "artigo_alber\n",
    "\n",
    "\\cite{10.1371/journal.pmed.0020124, prinz2011believe, baker20161}\n",
    "\\cite{reich2006genepattern, greff2017sacred, nust2017opening, govoni2019qresp}"
   ]
  }
 ],
 "metadata": {
  "kernelspec": {
   "display_name": "R",
   "language": "R",
   "name": "ir"
  },
  "language_info": {
   "codemirror_mode": "r",
   "file_extension": ".r",
   "mimetype": "text/x-r-source",
   "name": "R",
   "pygments_lexer": "r",
   "version": "3.6.1"
  }
 },
 "nbformat": 4,
 "nbformat_minor": 4
}
