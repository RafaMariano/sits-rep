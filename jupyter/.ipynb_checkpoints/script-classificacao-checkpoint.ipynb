{
 "cells": [
  {
   "cell_type": "markdown",
   "metadata": {},
   "source": [
    "# Exemplo de Criação de um Script de Classificação Utilizando o **_sits_**"
   ]
  },
  {
   "cell_type": "markdown",
   "metadata": {},
   "source": [
    "## Pré Requisito\n",
    "\n",
    "Inicialmente, é necessário instalar o pacote sits. Alguns pacotes de terceiros **DEVEM** estarem instalados previamente antes de iniciar a instalação do sits, são elas:\n",
    "- Python 3.6.8 (https://www.python.org/ftp/python/3.6.8/Python-3.6.8.tgz)\n",
    "- Tensorflow 1.9 (pip3.6 install --ignore-installed --upgrade tensorflow==1.9.0)\n",
    "- GEOS 3.7.1 (download.osgeo.org/geos/geos-3.7.1.tar.bz2)\n",
    "- Proj 5.2 (download.osgeo.org/proj/proj-5.2.0.tar.gz)\n",
    "- HDF5 1.10.4 (https://support.hdfgroup.org/ftp/HDF5/releases/hdf5-1.10/hdf5-1.10.4/src/hdf5-1.10.4.tar.bz2)\n",
    "- GDAL 2.4.2 (download.osgeo.org/gdal/2.4.2/gdal-2.4.2.tar.gz)\n",
    "- Dependências do sf - (https://github.com/r-spatial/sf)\n",
    "\n",
    "É aconselhável instalar as depêndencias na ordem informada. Outras depêndencias são necessárias, mas essas são instaladas no próprio R."
   ]
  },
  {
   "cell_type": "code",
   "execution_count": null,
   "metadata": {},
   "outputs": [],
   "source": [
    "install.packages('lwgeom')\n",
    "install.packages('tidyverse')\n",
    "install.packages('rgeos')\n",
    "install.packages('rversions')\n",
    "install.packages('roxygen2')\n",
    "\n",
    "install.packages('devtools')\n",
    "devtools::install_version('sf', '0.7-7', upgrade = FALSE, force=TRUE)\n",
    "devtools::install_version('raster', '2.9-23', upgrade = FALSE, force=TRUE)\n",
    "devtools::install_github(\"e-sensing/wtss\")\n",
    "devtools::install_github(\"pedro-andrade-inpe/sits.validate\",  upgrade = FALSE, force=TRUE)\n",
    "devtools::install_github(\"e-sensing/inSitu\",  upgrade = FALSE, force=TRUE)\n",
    "devtools::install_github(\"e-sensing/lucCalculus\",  upgrade = FALSE, force=TRUE)"
   ]
  },
  {
   "cell_type": "markdown",
   "metadata": {},
   "source": [
    "A versão do sits usada nesse exemplo e aceita pelo sits.rep é a versão 1.12.6. Por tanto, é necessário especificar a versão do commit específica da versão 1.12.6.\n",
    "Abaixo, segue o código R para a instalação do sits:"
   ]
  },
  {
   "cell_type": "code",
   "execution_count": null,
   "metadata": {},
   "outputs": [],
   "source": [
    "devtools::install_github('e-sensing/sits', ref ='d92bdc2f9b0f6158a8ae7ae8b7e4544fcca8390a',  upgrade = FALSE)"
   ]
  },
  {
   "cell_type": "markdown",
   "metadata": {},
   "source": [
    "Agora, basta importar o pacote sits para o ambiente R:"
   ]
  },
  {
   "cell_type": "code",
   "execution_count": null,
   "metadata": {},
   "outputs": [],
   "source": [
    "library(sits)"
   ]
  },
  {
   "cell_type": "markdown",
   "metadata": {},
   "source": [
    "## Criando o Script de Classificação\n",
    "\n",
    "Um script de classificação do sits para ser usado no sits.rep deve conter, no mínimo, cinco etapas:\n",
    "- [Obteção das amostras](#Obtenção-das-Amostras);\n",
    "- [Definição do modelo](#Definição-do-Modelo);\n",
    "- [Treinamento do Modelo](#Treinamento-do-Modelo);\n",
    "- [Definição da coverage](#Definição-da-coverage);\n",
    "- [Classificação](#Classificação).\n",
    "\n",
    "Cada uma dessas etapas serão especificado a seguir."
   ]
  },
  {
   "cell_type": "markdown",
   "metadata": {},
   "source": [
    "## Obtenção das Amostras\n",
    "\n",
    " Para treinar um modelo com o sits, é necessário informar um conjunto de amostras de séries temporais no formato sits.tibble. O pacote inSitu (https://github.com/e-sensing/inSitu) fornece amostras da região da Amazonia, Cerrado e do Mato Grosso neste formato específico, além disso todos os dados disponibilizados são usados constantemente dentro do projeto e-sensing, por tanto, são confiáveis.\n",
    "\n",
    " Para começar a usar o pacote, basta importar utilizando o 'library':\n"
   ]
  },
  {
   "cell_type": "code",
   "execution_count": null,
   "metadata": {},
   "outputs": [],
   "source": [
    "library(inSitu)"
   ]
  },
  {
   "cell_type": "markdown",
   "metadata": {},
   "source": [
    "Cada um dos conjuntos de amostras possuí um identificador único que é melhor descrito em seu GitHub (https://github.com/e-sensing/inSitu). Para este exemplo será usado amostras do Estado do Mato Grosso (Brasil), identificado como 'br_mt_1_8K_9classes_6bands'."
   ]
  },
  {
   "cell_type": "code",
   "execution_count": null,
   "metadata": {},
   "outputs": [],
   "source": [
    "data(\"br_mt_1_8K_9classes_6bands\")\n",
    "\n",
    "br_mt_1_8K_9classes_6bands[1,]"
   ]
  },
  {
   "cell_type": "markdown",
   "metadata": {},
   "source": [
    "Esse conjunto de dados disponibiliza seis séries temporais de bandas: mir, blue, ndvi, nir, red, evi.\n",
    "O usuário pode utilizar parte das bandas disponíveis em vez de todo o conjunto e, para facilitar esse processo, o sits disponibiliza a função 'sits_select_bands'. Basta especificar o conjunto de dados e especificar quais bandas de interesse.\n",
    "\n",
    "Para este exemplo, será usado somente a banda evi:\n"
   ]
  },
  {
   "cell_type": "code",
   "execution_count": null,
   "metadata": {},
   "outputs": [],
   "source": [
    "bands <- c(\"evi\")\n",
    "\n",
    "samples.tb <- sits_select_bands_(br_mt_1_8K_9classes_6bands, bands)\n"
   ]
  },
  {
   "cell_type": "markdown",
   "metadata": {},
   "source": [
    "## Definição do Modelo\n",
    "\n",
    " O pacote sits disponibiliza diversos métodos de aprendizagem de máquina, alguns deles são: sits_deeplearning, sits_rfor e sits_svm. Nesse passo, é necessário escolher um modelo e definir os seus parâmetros. No exemplo abaixo, foi utilizado o 'sits_deeplearning' que é a rede neural Multilayer Perceptron (MLP) e, por tanto, os seus parâmetros são correspondente a essa rede neural. Para mais informações sobre os parâmetros que corresponde a rede neural MLP, acesse: https://github.com/e-sensing/sits-docs/blob/master/vignettes/machine_learning.pdf."
   ]
  },
  {
   "cell_type": "code",
   "execution_count": null,
   "metadata": {},
   "outputs": [],
   "source": [
    "ml_deep_learning = sits_deeplearning( units           = c(512, 512, 512),\n",
    "                                      activation       = 'relu',\n",
    "                                      dropout_rates    = c(0.50, 0.45, 0.40),\n",
    "                                      epochs = 1,\n",
    "                                      batch_size = 128,\n",
    "                                      validation_split = 0.2)"
   ]
  },
  {
   "cell_type": "markdown",
   "metadata": {},
   "source": [
    "## Treinamento do Modelo\n",
    "\n",
    "Com as amostras e modelo já executadas, basta passar ambos como argumento da função 'sits_train' e o sits irá treinar o modelo. "
   ]
  },
  {
   "cell_type": "code",
   "execution_count": null,
   "metadata": {},
   "outputs": [],
   "source": [
    "ml_model <-  sits_train(samples.tb, ml_deep_learning)"
   ]
  },
  {
   "cell_type": "markdown",
   "metadata": {},
   "source": [
    "## Definição da coverage\n",
    "\n",
    "É necessário definir uma coverage que será usado pelo sits para classificar um determinado conjunto de séries temporais. O sits disponibiliza vários métodos para importar dados de séries temporais, para mais informações acesse: https://github.com/e-sensing/sits#data-access. Neste exemplo será usado o serviço 'EOCubes', informado no parâmetro 'service'. Outros parâmetros são a coverage, será utilizado o produto MOD13Q1 do sensor MODIS, as bandas (as mesmas bandas definidas na Obtenção de Amostras) e um shapely que corresponde a área de interesse para ser usado como dados de entrada no classificador. A área de interesse (em azul) corresponde uma pequena região do Estado do Mato Grosso (em verde), entre São José do Apui e Novo Paraná, como pode ser observado logo abaixo:\n"
   ]
  },
  {
   "cell_type": "code",
   "execution_count": null,
   "metadata": {},
   "outputs": [],
   "source": [
    "library(tidyverse)\n",
    "library(sf)\n",
    "\n",
    "mt <- st_read(system.file(\"extdata/MT/shape/MT.shp\", package = \"inSitu\")) \n",
    "g <- st_read(paste0(getwd(), \"/geom/geom.shp\"))\n",
    "\n",
    "plot(c(mt$geometry, g$geometry),  col = c('green', 'blue'))"
   ]
  },
  {
   "cell_type": "markdown",
   "metadata": {},
   "source": [
    "Logo abaixo, é chamado a função 'sits_coverage': "
   ]
  },
  {
   "cell_type": "code",
   "execution_count": null,
   "metadata": {},
   "outputs": [],
   "source": [
    "cov.tb <- sits_coverage(service = \"EOCUBES\",\n",
    "                        name = \"MOD13Q1/006\",\n",
    "                        bands = bands,\n",
    "                        geom = sf::read_sf(paste0(getwd(), \"/geom/geom.shp\"))"
   ]
  },
  {
   "cell_type": "markdown",
   "metadata": {},
   "source": [
    "## Classificação\n",
    "\n",
    "Nesta versão do sits é disponível três tipos de classificadores diferente. Como foi definido o serviço 'EOCubes' no 'sits_coverage', é necessário utilizar a função 'sits_classify_cubes' que é próprio para trabalhar com cubos de dados. Esse classificador irá gerar como resultado um conjunto de imagens RASTER em um diretório que deve ser específicado no argumento 'file'. Os outros parâmetros são a coverage e o modelo que foram definidos anteriormente e a quantidade de memória (em GB) e de processadores máximo permitido para ser usado.\n"
   ]
  },
  {
   "cell_type": "code",
   "execution_count": null,
   "metadata": {},
   "outputs": [],
   "source": [
    "if (!dir.exists(paste0(getwd(), \"/Classification/MT\")))\n",
    "  dir.create(paste0(getwd(), \"/Classification/MT\"), recursive = TRUE)\n",
    "\n",
    "rasters.tb <- sits_classify_cubes(file = paste0(getwd(), \"/Classification/MT\"),\n",
    "                                  coverage = cov.tb,\n",
    "                                  ml_model = ml_model,\n",
    "                                  memsize = 4,\n",
    "                                  multicores = 4)"
   ]
  },
  {
   "cell_type": "markdown",
   "metadata": {},
   "source": []
  }
 ],
 "metadata": {
  "kernelspec": {
   "display_name": "R",
   "language": "R",
   "name": "ir"
  },
  "language_info": {
   "codemirror_mode": "r",
   "file_extension": ".r",
   "mimetype": "text/x-r-source",
   "name": "R",
   "pygments_lexer": "r",
   "version": "3.6.1"
  }
 },
 "nbformat": 4,
 "nbformat_minor": 4
}
